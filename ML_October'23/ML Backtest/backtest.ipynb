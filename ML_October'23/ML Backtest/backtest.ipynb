{
 "cells": [
  {
   "cell_type": "code",
   "execution_count": 1,
   "id": "c4426172-f429-45f2-846c-ec7da9d232ba",
   "metadata": {},
   "outputs": [],
   "source": [
    "instrument = 'NIFTY'"
   ]
  },
  {
   "cell_type": "code",
   "execution_count": 2,
   "id": "ab82580a-6c1d-48e9-926f-26342a9d2b2f",
   "metadata": {},
   "outputs": [],
   "source": [
    "import datetime\n",
    "import numpy as np\n",
    "import pandas as pd"
   ]
  },
  {
   "cell_type": "code",
   "execution_count": 3,
   "id": "587944bf-2e32-48d4-bf33-d3e4d6e0fbd2",
   "metadata": {},
   "outputs": [],
   "source": [
    "from glob import glob"
   ]
  },
  {
   "cell_type": "code",
   "execution_count": 4,
   "id": "33312cfd-f619-4cc3-9cad-1854c1d63dae",
   "metadata": {},
   "outputs": [],
   "source": [
    "from IPython.display import clear_output"
   ]
  },
  {
   "cell_type": "code",
   "execution_count": 5,
   "id": "9622f652-e78f-4b49-825a-16ec47f55f3b",
   "metadata": {},
   "outputs": [],
   "source": [
    "start_date = datetime.date(2023,1,1)\n",
    "stop_date = datetime.date(2023,6,30)"
   ]
  },
  {
   "cell_type": "code",
   "execution_count": 6,
   "id": "1be7abfe-d7be-49a6-a55e-c0196caa4c49",
   "metadata": {},
   "outputs": [],
   "source": [
    "files_path = f'../ML Data/fno/{instrument.lower()}'"
   ]
  },
  {
   "cell_type": "code",
   "execution_count": 7,
   "id": "8377e37b-df29-4e0b-a3e8-c3d4416fdd2f",
   "metadata": {},
   "outputs": [],
   "source": [
    "all_files = glob(files_path+\"/*\")\n",
    "all_files_df = pd.DataFrame(all_files,columns=['path'])\n",
    "all_files_df['date'] = all_files_df['path'].apply(lambda x: x.split('/')[-1].split('.')[0])\n",
    "all_files_df.sort_values('date',inplace=True)\n",
    "all_files_df.reset_index(drop=True,inplace=True)\n",
    "\n",
    "all_files_df['date'] = pd.to_datetime(all_files_df['date']).apply(lambda x: x.date())\n",
    "all_files_df = all_files_df[(all_files_df['date'] >= start_date) & (all_files_df['date'] <= stop_date)]\n",
    "all_files_df = all_files_df.set_index('date')"
   ]
  },
  {
   "cell_type": "code",
   "execution_count": 8,
   "id": "d12c40ac-e7ce-4020-a357-e4cb9c8bc485",
   "metadata": {},
   "outputs": [
    {
     "name": "stdout",
     "output_type": "stream",
     "text": [
      "2023-06-30\n"
     ]
    }
   ],
   "source": [
    "# take the expiries for managing the positions\n",
    "# expiry_dates = {}\n",
    "\n",
    "for date_idx, row in all_files_df.iterrows():\n",
    "\n",
    "    print(date_idx)\n",
    "    \n",
    "    data = pd.DataFrame()\n",
    "    data = pd.read_parquet(row['path'])\n",
    "\n",
    "    expiry_date = None\n",
    "    expiry_date = data[data['expiry_date'] >= date_idx]['expiry_date'].min()\n",
    "    \n",
    "    # expiry_dates[date_idx] = expiry_date\n",
    "\n",
    "    all_files_df.loc[date_idx,'expiry_date'] = expiry_date\n",
    "    \n",
    "    clear_output(wait=True)"
   ]
  },
  {
   "cell_type": "code",
   "execution_count": 9,
   "id": "ef1a63ad-e80b-47e1-8db0-2f92e468159f",
   "metadata": {},
   "outputs": [
    {
     "data": {
      "text/html": [
       "<div>\n",
       "<style scoped>\n",
       "    .dataframe tbody tr th:only-of-type {\n",
       "        vertical-align: middle;\n",
       "    }\n",
       "\n",
       "    .dataframe tbody tr th {\n",
       "        vertical-align: top;\n",
       "    }\n",
       "\n",
       "    .dataframe thead th {\n",
       "        text-align: right;\n",
       "    }\n",
       "</style>\n",
       "<table border=\"1\" class=\"dataframe\">\n",
       "  <thead>\n",
       "    <tr style=\"text-align: right;\">\n",
       "      <th></th>\n",
       "      <th>path</th>\n",
       "      <th>expiry_date</th>\n",
       "    </tr>\n",
       "    <tr>\n",
       "      <th>date</th>\n",
       "      <th></th>\n",
       "      <th></th>\n",
       "    </tr>\n",
       "  </thead>\n",
       "  <tbody>\n",
       "    <tr>\n",
       "      <th>2023-01-02</th>\n",
       "      <td>../ML Data/fno/nifty/2023-01-02.parquet</td>\n",
       "      <td>2023-01-05</td>\n",
       "    </tr>\n",
       "    <tr>\n",
       "      <th>2023-01-03</th>\n",
       "      <td>../ML Data/fno/nifty/2023-01-03.parquet</td>\n",
       "      <td>2023-01-05</td>\n",
       "    </tr>\n",
       "    <tr>\n",
       "      <th>2023-01-04</th>\n",
       "      <td>../ML Data/fno/nifty/2023-01-04.parquet</td>\n",
       "      <td>2023-01-05</td>\n",
       "    </tr>\n",
       "    <tr>\n",
       "      <th>2023-01-05</th>\n",
       "      <td>../ML Data/fno/nifty/2023-01-05.parquet</td>\n",
       "      <td>2023-01-05</td>\n",
       "    </tr>\n",
       "    <tr>\n",
       "      <th>2023-01-06</th>\n",
       "      <td>../ML Data/fno/nifty/2023-01-06.parquet</td>\n",
       "      <td>2023-01-12</td>\n",
       "    </tr>\n",
       "    <tr>\n",
       "      <th>...</th>\n",
       "      <td>...</td>\n",
       "      <td>...</td>\n",
       "    </tr>\n",
       "    <tr>\n",
       "      <th>2023-06-23</th>\n",
       "      <td>../ML Data/fno/nifty/2023-06-23.parquet</td>\n",
       "      <td>2023-06-29</td>\n",
       "    </tr>\n",
       "    <tr>\n",
       "      <th>2023-06-26</th>\n",
       "      <td>../ML Data/fno/nifty/2023-06-26.parquet</td>\n",
       "      <td>2023-06-29</td>\n",
       "    </tr>\n",
       "    <tr>\n",
       "      <th>2023-06-27</th>\n",
       "      <td>../ML Data/fno/nifty/2023-06-27.parquet</td>\n",
       "      <td>2023-06-29</td>\n",
       "    </tr>\n",
       "    <tr>\n",
       "      <th>2023-06-28</th>\n",
       "      <td>../ML Data/fno/nifty/2023-06-28.parquet</td>\n",
       "      <td>2023-06-28</td>\n",
       "    </tr>\n",
       "    <tr>\n",
       "      <th>2023-06-30</th>\n",
       "      <td>../ML Data/fno/nifty/2023-06-30.parquet</td>\n",
       "      <td>2023-07-06</td>\n",
       "    </tr>\n",
       "  </tbody>\n",
       "</table>\n",
       "<p>122 rows × 2 columns</p>\n",
       "</div>"
      ],
      "text/plain": [
       "                                               path expiry_date\n",
       "date                                                           \n",
       "2023-01-02  ../ML Data/fno/nifty/2023-01-02.parquet  2023-01-05\n",
       "2023-01-03  ../ML Data/fno/nifty/2023-01-03.parquet  2023-01-05\n",
       "2023-01-04  ../ML Data/fno/nifty/2023-01-04.parquet  2023-01-05\n",
       "2023-01-05  ../ML Data/fno/nifty/2023-01-05.parquet  2023-01-05\n",
       "2023-01-06  ../ML Data/fno/nifty/2023-01-06.parquet  2023-01-12\n",
       "...                                             ...         ...\n",
       "2023-06-23  ../ML Data/fno/nifty/2023-06-23.parquet  2023-06-29\n",
       "2023-06-26  ../ML Data/fno/nifty/2023-06-26.parquet  2023-06-29\n",
       "2023-06-27  ../ML Data/fno/nifty/2023-06-27.parquet  2023-06-29\n",
       "2023-06-28  ../ML Data/fno/nifty/2023-06-28.parquet  2023-06-28\n",
       "2023-06-30  ../ML Data/fno/nifty/2023-06-30.parquet  2023-07-06\n",
       "\n",
       "[122 rows x 2 columns]"
      ]
     },
     "execution_count": 9,
     "metadata": {},
     "output_type": "execute_result"
    }
   ],
   "source": [
    "all_files_df"
   ]
  },
  {
   "cell_type": "code",
   "execution_count": 10,
   "id": "980928aa-7de4-4248-b261-e711e6d22bdd",
   "metadata": {},
   "outputs": [],
   "source": [
    "spot_data_filepath = f'../ML Data/spot/{instrument.lower()}.csv'"
   ]
  },
  {
   "cell_type": "code",
   "execution_count": 11,
   "id": "a24f61d7-0922-4082-858f-b4c3038a366f",
   "metadata": {},
   "outputs": [],
   "source": [
    "sma_f = 5\n",
    "sma_s = 13"
   ]
  },
  {
   "cell_type": "code",
   "execution_count": 12,
   "id": "2e61113c-7d08-4eb2-9cfc-3eb66494bbbc",
   "metadata": {},
   "outputs": [],
   "source": [
    "spot_data = pd.read_csv(spot_data_filepath)\n",
    "spot_data['datetime'] = pd.to_datetime(spot_data['datetime'])\n",
    "spot_data['date'] = spot_data['datetime'].dt.date\n",
    "spot_data['time'] = spot_data['datetime'].dt.time\n",
    "\n",
    "spot_data = spot_data[(spot_data['date'] >= start_date) & (spot_data['date'] <= stop_date)].reset_index(drop=True)\n",
    "spot_data = spot_data.sort_values('datetime')\n",
    "\n",
    "spot_data.set_index('datetime',inplace=True)\n",
    "\n",
    "spot_data_1D = spot_data.resample('1D').apply({'open':'first','high':'max','low':'min','close':'last'})\n",
    "spot_data_1D = spot_data_1D.dropna()\n",
    "spot_data_1D['sma_f'] = spot_data_1D['close'].rolling(window=sma_f).mean()\n",
    "spot_data_1D['sma_s'] = spot_data_1D['close'].rolling(window=sma_s).mean()\n",
    "\n",
    "# lookahead removal\n",
    "# since we cannot see history before it happens\n",
    "spot_data_1D[[ 'sma_f', 'sma_s']] = spot_data_1D[[ 'sma_f', 'sma_s']].shift()"
   ]
  },
  {
   "cell_type": "code",
   "execution_count": 13,
   "id": "c05be5ad-b29e-4cb7-b62e-3db15f9664e2",
   "metadata": {},
   "outputs": [
    {
     "name": "stdout",
     "output_type": "stream",
     "text": [
      "2023-05-18 LONG\n"
     ]
    }
   ],
   "source": [
    "# generate signals\n",
    "for datetime_idx, d_today in spot_data_1D[1:].iterrows():\n",
    "\n",
    "    if datetime_idx.date() not in all_files_df.index:\n",
    "        continue\n",
    "\n",
    "    if (\n",
    "        (d_today['sma_f'] > d_today['sma_s'])\n",
    "    ):\n",
    "        print(datetime_idx.date(),'LONG')\n",
    "        all_files_df.loc[datetime_idx.date(),'direction'] = 'LONG'\n",
    "\n",
    "    elif (\n",
    "        (d_today['sma_f'] < d_today['sma_s'])\n",
    "    ):\n",
    "        print(datetime_idx.date(),'SHORT')\n",
    "        all_files_df.loc[datetime_idx.date(),'direction'] = 'SHORT'\n",
    "\n",
    "    else:\n",
    "        print(datetime_idx.date(),'NEUTRAL')\n",
    "        all_files_df.loc[datetime_idx.date(),'direction'] = 'NEUTRAL'\n",
    "    \n",
    "    clear_output(wait=True)"
   ]
  },
  {
   "cell_type": "code",
   "execution_count": 14,
   "id": "c86402e5-4a9b-4872-b5dd-4d9f8dabf373",
   "metadata": {},
   "outputs": [
    {
     "data": {
      "text/html": [
       "<div>\n",
       "<style scoped>\n",
       "    .dataframe tbody tr th:only-of-type {\n",
       "        vertical-align: middle;\n",
       "    }\n",
       "\n",
       "    .dataframe tbody tr th {\n",
       "        vertical-align: top;\n",
       "    }\n",
       "\n",
       "    .dataframe thead th {\n",
       "        text-align: right;\n",
       "    }\n",
       "</style>\n",
       "<table border=\"1\" class=\"dataframe\">\n",
       "  <thead>\n",
       "    <tr style=\"text-align: right;\">\n",
       "      <th></th>\n",
       "      <th>path</th>\n",
       "      <th>expiry_date</th>\n",
       "      <th>direction</th>\n",
       "    </tr>\n",
       "    <tr>\n",
       "      <th>date</th>\n",
       "      <th></th>\n",
       "      <th></th>\n",
       "      <th></th>\n",
       "    </tr>\n",
       "  </thead>\n",
       "  <tbody>\n",
       "    <tr>\n",
       "      <th>2023-01-02</th>\n",
       "      <td>../ML Data/fno/nifty/2023-01-02.parquet</td>\n",
       "      <td>2023-01-05</td>\n",
       "      <td>NaN</td>\n",
       "    </tr>\n",
       "    <tr>\n",
       "      <th>2023-01-03</th>\n",
       "      <td>../ML Data/fno/nifty/2023-01-03.parquet</td>\n",
       "      <td>2023-01-05</td>\n",
       "      <td>NEUTRAL</td>\n",
       "    </tr>\n",
       "    <tr>\n",
       "      <th>2023-01-04</th>\n",
       "      <td>../ML Data/fno/nifty/2023-01-04.parquet</td>\n",
       "      <td>2023-01-05</td>\n",
       "      <td>NEUTRAL</td>\n",
       "    </tr>\n",
       "    <tr>\n",
       "      <th>2023-01-05</th>\n",
       "      <td>../ML Data/fno/nifty/2023-01-05.parquet</td>\n",
       "      <td>2023-01-05</td>\n",
       "      <td>NEUTRAL</td>\n",
       "    </tr>\n",
       "    <tr>\n",
       "      <th>2023-01-06</th>\n",
       "      <td>../ML Data/fno/nifty/2023-01-06.parquet</td>\n",
       "      <td>2023-01-12</td>\n",
       "      <td>NEUTRAL</td>\n",
       "    </tr>\n",
       "    <tr>\n",
       "      <th>...</th>\n",
       "      <td>...</td>\n",
       "      <td>...</td>\n",
       "      <td>...</td>\n",
       "    </tr>\n",
       "    <tr>\n",
       "      <th>2023-06-23</th>\n",
       "      <td>../ML Data/fno/nifty/2023-06-23.parquet</td>\n",
       "      <td>2023-06-29</td>\n",
       "      <td>NaN</td>\n",
       "    </tr>\n",
       "    <tr>\n",
       "      <th>2023-06-26</th>\n",
       "      <td>../ML Data/fno/nifty/2023-06-26.parquet</td>\n",
       "      <td>2023-06-29</td>\n",
       "      <td>NaN</td>\n",
       "    </tr>\n",
       "    <tr>\n",
       "      <th>2023-06-27</th>\n",
       "      <td>../ML Data/fno/nifty/2023-06-27.parquet</td>\n",
       "      <td>2023-06-29</td>\n",
       "      <td>NaN</td>\n",
       "    </tr>\n",
       "    <tr>\n",
       "      <th>2023-06-28</th>\n",
       "      <td>../ML Data/fno/nifty/2023-06-28.parquet</td>\n",
       "      <td>2023-06-28</td>\n",
       "      <td>NaN</td>\n",
       "    </tr>\n",
       "    <tr>\n",
       "      <th>2023-06-30</th>\n",
       "      <td>../ML Data/fno/nifty/2023-06-30.parquet</td>\n",
       "      <td>2023-07-06</td>\n",
       "      <td>NaN</td>\n",
       "    </tr>\n",
       "  </tbody>\n",
       "</table>\n",
       "<p>122 rows × 3 columns</p>\n",
       "</div>"
      ],
      "text/plain": [
       "                                               path expiry_date direction\n",
       "date                                                                     \n",
       "2023-01-02  ../ML Data/fno/nifty/2023-01-02.parquet  2023-01-05       NaN\n",
       "2023-01-03  ../ML Data/fno/nifty/2023-01-03.parquet  2023-01-05   NEUTRAL\n",
       "2023-01-04  ../ML Data/fno/nifty/2023-01-04.parquet  2023-01-05   NEUTRAL\n",
       "2023-01-05  ../ML Data/fno/nifty/2023-01-05.parquet  2023-01-05   NEUTRAL\n",
       "2023-01-06  ../ML Data/fno/nifty/2023-01-06.parquet  2023-01-12   NEUTRAL\n",
       "...                                             ...         ...       ...\n",
       "2023-06-23  ../ML Data/fno/nifty/2023-06-23.parquet  2023-06-29       NaN\n",
       "2023-06-26  ../ML Data/fno/nifty/2023-06-26.parquet  2023-06-29       NaN\n",
       "2023-06-27  ../ML Data/fno/nifty/2023-06-27.parquet  2023-06-29       NaN\n",
       "2023-06-28  ../ML Data/fno/nifty/2023-06-28.parquet  2023-06-28       NaN\n",
       "2023-06-30  ../ML Data/fno/nifty/2023-06-30.parquet  2023-07-06       NaN\n",
       "\n",
       "[122 rows x 3 columns]"
      ]
     },
     "execution_count": 14,
     "metadata": {},
     "output_type": "execute_result"
    }
   ],
   "source": [
    "all_files_df"
   ]
  },
  {
   "cell_type": "code",
   "execution_count": null,
   "id": "24f5df0e-8a56-448e-9720-35a2d4e592fc",
   "metadata": {},
   "outputs": [],
   "source": []
  }
 ],
 "metadata": {
  "kernelspec": {
   "display_name": "Python 3 (ipykernel)",
   "language": "python",
   "name": "python3"
  },
  "language_info": {
   "codemirror_mode": {
    "name": "ipython",
    "version": 3
   },
   "file_extension": ".py",
   "mimetype": "text/x-python",
   "name": "python",
   "nbconvert_exporter": "python",
   "pygments_lexer": "ipython3",
   "version": "3.10.12"
  }
 },
 "nbformat": 4,
 "nbformat_minor": 5
}
