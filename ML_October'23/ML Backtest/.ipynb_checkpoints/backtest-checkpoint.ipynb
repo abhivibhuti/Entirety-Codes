{
 "cells": [
  {
   "cell_type": "code",
   "execution_count": 1,
   "id": "c4426172-f429-45f2-846c-ec7da9d232ba",
   "metadata": {},
   "outputs": [],
   "source": [
    "instrument = 'BANKNIFTY'"
   ]
  },
  {
   "cell_type": "code",
   "execution_count": 2,
   "id": "ab82580a-6c1d-48e9-926f-26342a9d2b2f",
   "metadata": {},
   "outputs": [],
   "source": [
    "import datetime\n",
    "import numpy as np\n",
    "import pandas as pd"
   ]
  },
  {
   "cell_type": "code",
   "execution_count": 3,
   "id": "587944bf-2e32-48d4-bf33-d3e4d6e0fbd2",
   "metadata": {},
   "outputs": [],
   "source": [
    "from glob import glob"
   ]
  },
  {
   "cell_type": "code",
   "execution_count": 4,
   "id": "33312cfd-f619-4cc3-9cad-1854c1d63dae",
   "metadata": {},
   "outputs": [],
   "source": [
    "from IPython.display import clear_output"
   ]
  },
  {
   "cell_type": "code",
   "execution_count": 5,
   "id": "9622f652-e78f-4b49-825a-16ec47f55f3b",
   "metadata": {},
   "outputs": [],
   "source": [
    "start_date = datetime.date(2023,1,1)\n",
    "stop_date = datetime.date(2023,4,30)"
   ]
  },
  {
   "cell_type": "code",
   "execution_count": 6,
   "id": "1be7abfe-d7be-49a6-a55e-c0196caa4c49",
   "metadata": {},
   "outputs": [],
   "source": [
    "files_path = f'../ML Data/fno/{instrument.lower()}'"
   ]
  },
  {
   "cell_type": "code",
   "execution_count": 7,
   "id": "8377e37b-df29-4e0b-a3e8-c3d4416fdd2f",
   "metadata": {},
   "outputs": [],
   "source": [
    "all_files = glob(files_path+\"/*\")\n",
    "all_files_df = pd.DataFrame(all_files,columns=['path'])\n",
    "all_files_df['date'] = all_files_df['path'].apply(lambda x: x.split('/')[-1].split('.')[0])\n",
    "all_files_df.sort_values('date',inplace=True)\n",
    "all_files_df.reset_index(drop=True,inplace=True)\n",
    "\n",
    "all_files_df['date'] = pd.to_datetime(all_files_df['date']).apply(lambda x: x.date())\n",
    "all_files_df = all_files_df[(all_files_df['date'] >= start_date) & (all_files_df['date'] <= stop_date)]\n",
    "all_files_df = all_files_df.set_index('date')"
   ]
  },
  {
   "cell_type": "code",
   "execution_count": 8,
   "id": "d12c40ac-e7ce-4020-a357-e4cb9c8bc485",
   "metadata": {},
   "outputs": [
    {
     "name": "stdout",
     "output_type": "stream",
     "text": [
      "2023-04-28\n"
     ]
    }
   ],
   "source": [
    "# take the expiries for managing the positions\n",
    "# expiry_dates = {}\n",
    "\n",
    "for date_idx, row in all_files_df.iterrows():\n",
    "\n",
    "    print(date_idx)\n",
    "    \n",
    "    data = pd.DataFrame()\n",
    "    data = pd.read_parquet(row['path'])\n",
    "\n",
    "    expiry_date = None\n",
    "    expiry_date = data[data['expiry_date'] >= date_idx]['expiry_date'].min()\n",
    "    \n",
    "    # expiry_dates[date_idx] = expiry_date\n",
    "\n",
    "    all_files_df.loc[date_idx,'expiry_date'] = expiry_date\n",
    "    \n",
    "    clear_output(wait=True)"
   ]
  },
  {
   "cell_type": "code",
   "execution_count": 9,
   "id": "ef1a63ad-e80b-47e1-8db0-2f92e468159f",
   "metadata": {},
   "outputs": [],
   "source": [
    "all_files_df['upcoming_expiry_date'] = all_files_df['expiry_date'].shift(-1)"
   ]
  },
  {
   "cell_type": "code",
   "execution_count": 10,
   "id": "980928aa-7de4-4248-b261-e711e6d22bdd",
   "metadata": {},
   "outputs": [],
   "source": [
    "spot_data_filepath = f'../ML Data/spot/{instrument.lower()}.csv'"
   ]
  },
  {
   "cell_type": "code",
   "execution_count": 11,
   "id": "a24f61d7-0922-4082-858f-b4c3038a366f",
   "metadata": {},
   "outputs": [],
   "source": [
    "sma_f = 5\n",
    "sma_s = 13"
   ]
  },
  {
   "cell_type": "code",
   "execution_count": 12,
   "id": "bcae1056-203a-4bf5-b68e-6b1363aa7f1d",
   "metadata": {},
   "outputs": [
    {
     "data": {
      "text/plain": [
       "datetime.date(2023, 1, 1)"
      ]
     },
     "execution_count": 12,
     "metadata": {},
     "output_type": "execute_result"
    }
   ],
   "source": [
    "start_date"
   ]
  },
  {
   "cell_type": "code",
   "execution_count": 13,
   "id": "72f9d0b6-dba4-4d90-ae3f-fad78da6f622",
   "metadata": {},
   "outputs": [
    {
     "data": {
      "text/plain": [
       "datetime.date(2023, 4, 30)"
      ]
     },
     "execution_count": 13,
     "metadata": {},
     "output_type": "execute_result"
    }
   ],
   "source": [
    "stop_date"
   ]
  },
  {
   "cell_type": "code",
   "execution_count": 14,
   "id": "81ebf783-e96d-4619-bb40-9157c9b61b2e",
   "metadata": {},
   "outputs": [],
   "source": [
    "spot_data = pd.read_csv(spot_data_filepath)\n",
    "spot_data['datetime'] = pd.to_datetime(spot_data['datetime'])\n",
    "spot_data['date'] = spot_data['datetime'].dt.date\n",
    "spot_data['time'] = spot_data['datetime'].dt.time\n",
    "\n",
    "spot_data = spot_data[(spot_data['date'] >= start_date) & (spot_data['date'] <= stop_date)].reset_index(drop=True)\n",
    "spot_data = spot_data.sort_values('datetime')\n",
    "\n",
    "spot_data.set_index('datetime',inplace=True)"
   ]
  },
  {
   "cell_type": "code",
   "execution_count": 15,
   "id": "00ecc77d-843b-49f6-8651-57e92649b3e8",
   "metadata": {},
   "outputs": [],
   "source": [
    "spot_data_1D = spot_data.resample('1D').apply({'open':'first','high':'max','low':'min','close':'last'})\n",
    "spot_data_1D = spot_data_1D.dropna()\n",
    "\n",
    "spot_data_1D['sma_f'] = spot_data_1D['close'].rolling(window=sma_f).mean()\n",
    "spot_data_1D['sma_s'] = spot_data_1D['close'].rolling(window=sma_s).mean()\n",
    "\n",
    "# lookahead removal\n",
    "# since we cannot see history before it happens\n",
    "spot_data_1D[[ 'sma_f', 'sma_s']] = spot_data_1D[[ 'sma_f', 'sma_s']].shift()\n",
    "spot_data_1D = spot_data_1D.dropna()"
   ]
  },
  {
   "cell_type": "code",
   "execution_count": 16,
   "id": "b0a24ed7-7ac3-4af2-8ece-119392dd7762",
   "metadata": {},
   "outputs": [
    {
     "name": "stdout",
     "output_type": "stream",
     "text": [
      "2023-04-28 LONG\n"
     ]
    }
   ],
   "source": [
    "# generate signals\n",
    "for datetime_idx, d_today in spot_data_1D[1:].iterrows():\n",
    "\n",
    "    if datetime_idx.date() not in all_files_df.index:\n",
    "        continue\n",
    "\n",
    "    if (\n",
    "        (d_today['sma_f'] > d_today['sma_s'])\n",
    "    ):\n",
    "        print(datetime_idx.date(),'LONG')\n",
    "        all_files_df.loc[datetime_idx.date(),'direction'] = 'LONG'\n",
    "\n",
    "    elif (\n",
    "        (d_today['sma_f'] < d_today['sma_s'])\n",
    "    ):\n",
    "        print(datetime_idx.date(),'SHORT')\n",
    "        all_files_df.loc[datetime_idx.date(),'direction'] = 'SHORT'\n",
    "\n",
    "    else:\n",
    "        print(datetime_idx.date(),'NEUTRAL')\n",
    "        all_files_df.loc[datetime_idx.date(),'direction'] = 'NEUTRAL'\n",
    "    \n",
    "    all_files_df.loc[datetime_idx.date(),'close'] = d_today['close']\n",
    "    all_files_df.loc[datetime_idx.date(),'atm'] = round(all_files_df.loc[datetime_idx.date(),'close']/100)*100\n",
    "    \n",
    "    clear_output(wait=True)"
   ]
  },
  {
   "cell_type": "code",
   "execution_count": 17,
   "id": "c86402e5-4a9b-4872-b5dd-4d9f8dabf373",
   "metadata": {},
   "outputs": [],
   "source": [
    "sample_space = all_files_df.loc[datetime.date(2023,4,1):datetime.date(2023,4,30)]"
   ]
  },
  {
   "cell_type": "code",
   "execution_count": 18,
   "id": "bde43d34-e016-4cbe-a3e1-4f5426100e49",
   "metadata": {},
   "outputs": [
    {
     "name": "stderr",
     "output_type": "stream",
     "text": [
      "/tmp/ipykernel_46547/1667935606.py:1: SettingWithCopyWarning: \n",
      "A value is trying to be set on a copy of a slice from a DataFrame.\n",
      "Try using .loc[row_indexer,col_indexer] = value instead\n",
      "\n",
      "See the caveats in the documentation: https://pandas.pydata.org/pandas-docs/stable/user_guide/indexing.html#returning-a-view-versus-a-copy\n",
      "  sample_space['atm-1'] = sample_space['atm']-100\n",
      "/tmp/ipykernel_46547/1667935606.py:2: SettingWithCopyWarning: \n",
      "A value is trying to be set on a copy of a slice from a DataFrame.\n",
      "Try using .loc[row_indexer,col_indexer] = value instead\n",
      "\n",
      "See the caveats in the documentation: https://pandas.pydata.org/pandas-docs/stable/user_guide/indexing.html#returning-a-view-versus-a-copy\n",
      "  sample_space['atm+1'] = sample_space['atm']+100\n"
     ]
    }
   ],
   "source": [
    "sample_space['atm-1'] = sample_space['atm']-100\n",
    "sample_space['atm+1'] = sample_space['atm']+100"
   ]
  },
  {
   "cell_type": "code",
   "execution_count": 19,
   "id": "0e64ec75-a15b-46f4-94ad-51bdbfbe8b51",
   "metadata": {},
   "outputs": [],
   "source": [
    "tradebook = []"
   ]
  },
  {
   "cell_type": "code",
   "execution_count": 20,
   "id": "5635d1b8-2ebc-48a4-bbcc-5ac9cc5431a3",
   "metadata": {},
   "outputs": [],
   "source": [
    "# for credit spread only\n",
    "def determine_opt_type(direction):\n",
    "    if direction == 'LONG':\n",
    "        return 'PE'\n",
    "    elif direction == 'SHORT':\n",
    "        return 'CE'"
   ]
  },
  {
   "cell_type": "code",
   "execution_count": 21,
   "id": "5391ff3f-51f2-4469-98ee-f42188affa1b",
   "metadata": {},
   "outputs": [],
   "source": [
    "def get_opt_data(atm,expiry,opt_type,fno_data):\n",
    "    opt_data = fno_data[(fno_data['strike_price'] == atm) & (fno_data['expiry_date'] == expiry) & (fno_data['instrument_type'] == opt_type)].copy()\n",
    "    opt_data = opt_data.sort_values('datetime')\n",
    "    return opt_data"
   ]
  },
  {
   "cell_type": "code",
   "execution_count": 22,
   "id": "e74f2ff7-473a-44b2-b5b8-08adbabddba4",
   "metadata": {},
   "outputs": [],
   "source": [
    "# explicitly define no trade or 0 to trade state\n",
    "trade_state = 0\n",
    "\n",
    "current_trade_direction = None\n",
    "previous_trade_direction = None\n",
    "\n",
    "current_day_expiry_date = None\n",
    "upcoming_day_expiry_date = None"
   ]
  },
  {
   "cell_type": "code",
   "execution_count": 23,
   "id": "5263622d-3404-42a7-b409-1b7f09c47e8b",
   "metadata": {},
   "outputs": [
    {
     "name": "stdout",
     "output_type": "stream",
     "text": [
      "None LONG\n",
      "INITIATE LONG TRADE\n",
      "LONG LONG\n",
      "LONG LONG\n",
      "CHECK FOR EXIT\n",
      "CLOSE LONG TRADE\n",
      "INITIATE LONG TRADE\n",
      "LONG LONG\n",
      "LONG LONG\n",
      "LONG LONG\n",
      "LONG LONG\n",
      "CHECK FOR EXIT\n",
      "CLOSE LONG TRADE\n",
      "INITIATE LONG TRADE\n",
      "LONG LONG\n",
      "LONG LONG\n",
      "LONG LONG\n",
      "LONG LONG\n",
      "CHECK FOR EXIT\n",
      "CLOSE LONG TRADE\n",
      "INITIATE LONG TRADE\n",
      "LONG LONG\n",
      "LONG LONG\n",
      "LONG LONG\n",
      "LONG LONG\n",
      "LONG LONG\n",
      "CHECK FOR EXIT\n",
      "CLOSE LONG TRADE\n",
      "INITIATE LONG TRADE\n",
      "LONG LONG\n",
      "CHECK FOR EXIT\n",
      "CLOSE LONG TRADE\n"
     ]
    }
   ],
   "source": [
    "for idx, row in sample_space.iterrows():\n",
    "    \n",
    "    fno_data = pd.DataFrame()\n",
    "    fno_data = pd.read_parquet(row['path'])\n",
    "\n",
    "    current_trade_direction = row['direction']\n",
    "    current_day_expiry_date = row['expiry_date']\n",
    "    upcoming_day_expiry_date = row['upcoming_expiry_date']\n",
    "\n",
    "    print(previous_trade_direction, current_trade_direction)\n",
    "\n",
    "    # if in trade\n",
    "    if (\n",
    "        (trade_state == 1)\n",
    "    ):\n",
    "        # for the first trade\n",
    "        if (\n",
    "            (previous_trade_direction != current_trade_direction)\n",
    "            or\n",
    "            (upcoming_day_expiry_date != current_day_expiry_date)\n",
    "            or\n",
    "            (upcoming_day_expiry_date is None)\n",
    "        ):\n",
    "            print('CHECK FOR EXIT')\n",
    "            # decide the direction and register trade\n",
    "            print(f'CLOSE {previous_trade_direction} TRADE')\n",
    "       \n",
    "            exit_price_strike_1 = get_opt_data(strike_1,row['expiry_date'],trade_opt_type,fno_data)['close'].iloc[0]\n",
    "            exit_price_strike_2 = get_opt_data(strike_2,row['expiry_date'],trade_opt_type,fno_data)['close'].iloc[0]\n",
    "                \n",
    "            tradebook.append(\n",
    "                {\n",
    "                    'date':idx,\n",
    "                    'symbol':str(strike_1)+trade_opt_type,\n",
    "                    'transaction':'BUY',\n",
    "                    'price':exit_price_strike_1,\n",
    "                    'remark':f'{current_trade_direction} DIRECTION TRADE EXIT'\n",
    "                }\n",
    "            )\n",
    "            tradebook.append(\n",
    "                {\n",
    "                    'date':idx,\n",
    "                    'symbol':str(strike_2)+trade_opt_type,\n",
    "                    'transaction':'SELL',\n",
    "                    'price':exit_price_strike_2,\n",
    "                    'remark':f'{current_trade_direction} DIRECTION HEDGE EXIT'\n",
    "                }\n",
    "            )\n",
    "            trade_state = 0\n",
    "            strike_1 = None\n",
    "            strike_2 = None\n",
    "            entry_price_strike_1 = None\n",
    "            entry_price_strike_2 = None\n",
    "\n",
    "        if upcoming_day_expiry_date is None:\n",
    "            continue\n",
    "\n",
    "    \n",
    "    # if no trade till now\n",
    "    if (\n",
    "        (trade_state == 0)\n",
    "    ):\n",
    "            # for the first trade\n",
    "            # if previous_trade_direction is None:\n",
    "        # decide the direction and register trade\n",
    "        print(f'INITIATE {current_trade_direction} TRADE')\n",
    "        trade_opt_type = determine_opt_type(row['direction'])\n",
    "        \n",
    "        if trade_opt_type == 'CE':\n",
    "            strike_1 = row['atm']\n",
    "            strike_2 = row['atm+1']\n",
    "        \n",
    "        elif trade_opt_type == 'PE':\n",
    "            strike_1 = row['atm']\n",
    "            strike_2 = row['atm-1']\n",
    "    \n",
    "        entry_price_strike_1 = get_opt_data(strike_1,row['expiry_date'],trade_opt_type,fno_data)['open'].iloc[0]\n",
    "        entry_price_strike_2 = get_opt_data(strike_2,row['expiry_date'],trade_opt_type,fno_data)['open'].iloc[0]\n",
    "            \n",
    "        tradebook.append(\n",
    "            {\n",
    "                'date':idx,\n",
    "                'symbol':str(strike_1)+trade_opt_type,\n",
    "                'transaction':'SELL',\n",
    "                'price':entry_price_strike_1,\n",
    "                'remark':f'{current_trade_direction} DIRECTION TRADE ENTRY'\n",
    "            }\n",
    "        )\n",
    "        tradebook.append(\n",
    "            {\n",
    "                'date':idx,\n",
    "                'symbol':str(strike_2)+trade_opt_type,\n",
    "                'transaction':'BUY',\n",
    "                'price':entry_price_strike_2,\n",
    "                'remark':f'{current_trade_direction} DIRECTION HEDGE ENTRY'\n",
    "            }\n",
    "        )\n",
    "        trade_state = 1\n",
    "                \n",
    "    previous_trade_direction = current_trade_direction"
   ]
  },
  {
   "cell_type": "code",
   "execution_count": 30,
   "id": "d398d52a-3bc0-408a-a3d0-46fddb4168ea",
   "metadata": {},
   "outputs": [],
   "source": [
    "tradebook_df = pd.DataFrame(tradebook)"
   ]
  },
  {
   "cell_type": "code",
   "execution_count": 31,
   "id": "1eaa1af4-58df-46c7-82cd-ce8a123c5039",
   "metadata": {},
   "outputs": [],
   "source": [
    "tradebook_df['price'] = tradebook_df.apply(lambda x: x['price']*1 if x['transaction'] == 'SELL' else x['price']*-1, axis=1)"
   ]
  },
  {
   "cell_type": "code",
   "execution_count": 36,
   "id": "dfac406e-ab7a-48e5-9169-24dbed4dc9f8",
   "metadata": {},
   "outputs": [],
   "source": [
    "pnls = tradebook_df.groupby('date').sum()['price']"
   ]
  },
  {
   "cell_type": "code",
   "execution_count": 38,
   "id": "0837ca4a-bd42-4b5a-91e5-91f30519e18a",
   "metadata": {},
   "outputs": [
    {
     "data": {
      "text/plain": [
       "<Axes: xlabel='date'>"
      ]
     },
     "execution_count": 38,
     "metadata": {},
     "output_type": "execute_result"
    },
    {
     "data": {
      "image/png": "[encoded data removed]",
      "text/plain": [
       "<Figure size 640x480 with 1 Axes>"
      ]
     },
     "metadata": {},
     "output_type": "display_data"
    }
   ],
   "source": [
    "pnls.cumsum().plot()"
   ]
  },
  {
   "cell_type": "code",
   "execution_count": null,
   "id": "452c2686-64da-4124-87bf-487645e461c8",
   "metadata": {},
   "outputs": [],
   "source": []
  }
 ],
 "metadata": {
  "kernelspec": {
   "display_name": "Python 3 (ipykernel)",
   "language": "python",
   "name": "python3"
  },
  "language_info": {
   "codemirror_mode": {
    "name": "ipython",
    "version": 3
   },
   "file_extension": ".py",
   "mimetype": "text/x-python",
   "name": "python",
   "nbconvert_exporter": "python",
   "pygments_lexer": "ipython3",
   "version": "3.10.12"
  }
 },
 "nbformat": 4,
 "nbformat_minor": 5
}
