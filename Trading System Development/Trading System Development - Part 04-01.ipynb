{
 "cells": [
  {
   "cell_type": "markdown",
   "id": "775d17fd-41e7-42ae-8dd1-714c5d852d53",
   "metadata": {},
   "source": [
    "# <u>Trading System Development - Part 04</u>"
   ]
  },
  {
   "cell_type": "markdown",
   "id": "4523dc6f-250d-4cf6-b703-8d90c99616de",
   "metadata": {},
   "source": [
    "### Strategy Rules\n",
    "1. 1Hr Timeframe\n",
    "2. 200 SMA\n",
    "3. 10,3 Super Trend\n",
    "4. Stop-Reverse Strategy\n",
    "5. NIFTY index\n",
    "\n",
    "#### LONG Entry Rules\n",
    "1. 1Hr. Close > 200 SMA\n",
    "2. Long signal on SuperTrend\n",
    "3. (No ST long signals will be considered if close is below 200 SMA)\n",
    "\n",
    "#### SHORT Entry Rules\n",
    "1. 1Hr. Close < 200 SMA\n",
    "2. Short signal on SuperTrend\n",
    "3. (No ST short signals will be considered if close is above 200 SMA)\n",
    "\n"
   ]
  },
  {
   "cell_type": "markdown",
   "id": "090c20ac-8430-4014-baa9-889646bc202d",
   "metadata": {},
   "source": [
    "1. Optimization\n",
    "2. "
   ]
  },
  {
   "cell_type": "markdown",
   "id": "128dc55c-0cee-44f7-9767-f464bb9a56fe",
   "metadata": {},
   "source": [
    "# <u>AGENDA</u>"
   ]
  },
  {
   "cell_type": "markdown",
   "id": "c9dcf928-ceca-40ea-bb1e-8346a091936e",
   "metadata": {},
   "source": [
    "1. Live trade view\n",
    "2. Optimization (problems and potential solutions)\n",
    "3. Live Coding (On Solutions)\n",
    "4. Previous Video Update\n",
    "5. Faster SuperTrend Calculations (Numpy Arrays)\n"
   ]
  },
  {
   "cell_type": "markdown",
   "id": "67ded28e-48c1-4ea7-a98d-e862ee10392b",
   "metadata": {},
   "source": [
    "## <u>Problem Statements</u>"
   ]
  },
  {
   "cell_type": "markdown",
   "id": "38216fb4-a8fb-4529-98e9-039263223818",
   "metadata": {},
   "source": [
    "1. Profit not booking/Big Losses\n",
    "2. Lower number of Trades\n",
    "3. Low Win%\n",
    "4. Long trade duration"
   ]
  },
  {
   "cell_type": "markdown",
   "id": "2c23a5ed-b1bd-49a3-91f4-3ddb32758a6f",
   "metadata": {},
   "source": [
    "## <u>Probable Solutions</u>"
   ]
  },
  {
   "cell_type": "markdown",
   "id": "a93287bc-9aa6-4bf2-8721-66fa85c03f81",
   "metadata": {},
   "source": [
    "1. Reducing TF to increase trade frequency\n",
    "2. Using signals to exit early/Book profits by applying targets - Median analysis\n",
    "3. What if we exited on SuperTrend signal & ignore 200sma for exits  "
   ]
  },
  {
   "cell_type": "code",
   "execution_count": 3,
   "id": "92a051a5-71fe-44e7-af3d-d9a63db7f889",
   "metadata": {},
   "outputs": [],
   "source": [
    "#importing Libraries\n",
    "\n",
    "import pandas as pd\n",
    "import numpy as np\n",
    "import datetime\n",
    "import pandas_ta as ta"
   ]
  },
  {
   "cell_type": "markdown",
   "id": "540ac363-f39f-47d0-9f66-4ce60ebadf87",
   "metadata": {},
   "source": [
    "# <u>1. Data Cleaning</u>"
   ]
  },
  {
   "cell_type": "code",
   "execution_count": 4,
   "id": "b24ac01b-5b1f-476d-8987-3eaacbb4b86c",
   "metadata": {},
   "outputs": [],
   "source": [
    "#Add FilePath\n",
    "raw_data = pd.read_csv('/Users/sunnykalyani/Downloads/nifty50.csv')"
   ]
  },
  {
   "cell_type": "code",
   "execution_count": 5,
   "id": "c988a685-8fd6-43b0-99a2-08fb7ad877ff",
   "metadata": {},
   "outputs": [],
   "source": [
    "raw_data['date'] = raw_data['datetime'].apply(lambda x: datetime.datetime.strptime(x, '%Y-%m-%d %H:%M:%S').date())\n",
    "raw_data['time'] = raw_data['datetime'].apply(lambda x: datetime.datetime.strptime(x, '%Y-%m-%d %H:%M:%S').time())\n",
    "raw_data['datetime'] = raw_data['datetime'].apply(lambda x: datetime.datetime.strptime(x, '%Y-%m-%d %H:%M:%S'))"
   ]
  },
  {
   "cell_type": "code",
   "execution_count": 6,
   "id": "900ad354-b5cc-4137-a5c3-699d4e3c9c04",
   "metadata": {},
   "outputs": [],
   "source": [
    "nifty_data = raw_data[['datetime','date','time','open','high','low','close']]"
   ]
  },
  {
   "cell_type": "code",
   "execution_count": 7,
   "id": "cddbd94e-a070-4272-9c7c-30dfc811938c",
   "metadata": {},
   "outputs": [],
   "source": [
    "nifty_data.set_index('datetime',inplace=True, drop=True)"
   ]
  },
  {
   "cell_type": "markdown",
   "id": "c5c76f7e-b5d9-436c-a32f-df12eee5e1bc",
   "metadata": {},
   "source": [
    "# <u>2. Data Resampling (1 Hr)</u>"
   ]
  },
  {
   "cell_type": "code",
   "execution_count": 8,
   "id": "8e3bdd8e-7274-4e75-b5cb-19bba6bc2c12",
   "metadata": {},
   "outputs": [],
   "source": [
    "def subDatetime(x):\n",
    "    #Diwali Muraat Trading Hours(2015+11-11, 2016-10-30, 2017-10-9, 2018-11-7)(-30mins)\n",
    "    if (x.date() in [\n",
    "        datetime.date(2015,11,11),datetime.date(2016,10,30),datetime.date(2017,10,19),datetime.date(2018,11,7)\n",
    "    ]):\n",
    "        return x - datetime.timedelta(minutes=30)\n",
    "\n",
    "    #2021 Feb NSE Down (Stopped at 10:09 started back at 15:45)(-45mins)\n",
    "    elif (\n",
    "        (x.date() == datetime.date(2021,2,24))\n",
    "        and\n",
    "        (x.time() > datetime.time(15,30)\n",
    "        )):\n",
    "        return x - datetime.timedelta(minutes=45)\n",
    "\n",
    "    #All other times(-15mins)\n",
    "    else:\n",
    "        return x - datetime.timedelta(minutes=15)\n",
    "        \n",
    "def addDatetime(x):\n",
    "    #Diwali Muraat Trading Hours(2015-11-11, 2016-10-30, 2017-10-9, 2018-11-7)(-30mins)\n",
    "    if (x.date() in [\n",
    "        datetime.date(2015,11,11),datetime.date(2016,10,30),datetime.date(2017,10,19),datetime.date(2018,11,7)\n",
    "    ]):\n",
    "        return x + datetime.timedelta(minutes=30)\n",
    "\n",
    "    #2021 Feb NSE Down (Stopped at 10:09 started back at 15:45)(-45mins)\n",
    "    elif (\n",
    "        (x.date() == datetime.date(2021,2,24))\n",
    "        and\n",
    "        (x.time() > datetime.time(15,30)\n",
    "        )):\n",
    "        return x + datetime.timedelta(minutes=45)\n",
    "\n",
    "    #All other times(+15mins)\n",
    "    else:\n",
    "        return x + datetime.timedelta(minutes=15)\n"
   ]
  },
  {
   "cell_type": "code",
   "execution_count": 9,
   "id": "3724e2ec-5495-426b-8789-97e615ddc1d3",
   "metadata": {},
   "outputs": [
    {
     "name": "stderr",
     "output_type": "stream",
     "text": [
      "/var/folders/bk/x797cmpn36q8wvkjr3rfw85w0000gn/T/ipykernel_28111/1021208801.py:2: SettingWithCopyWarning: \n",
      "A value is trying to be set on a copy of a slice from a DataFrame.\n",
      "Try using .loc[row_indexer,col_indexer] = value instead\n",
      "\n",
      "See the caveats in the documentation: https://pandas.pydata.org/pandas-docs/stable/user_guide/indexing.html#returning-a-view-versus-a-copy\n",
      "  nifty_data['datetime'] = nifty_data['datetime'].apply(subDatetime)\n"
     ]
    }
   ],
   "source": [
    "nifty_data.reset_index(inplace=True)\n",
    "nifty_data['datetime'] = nifty_data['datetime'].apply(subDatetime)\n",
    "nifty_data.set_index('datetime',drop=True,inplace=True)"
   ]
  },
  {
   "cell_type": "code",
   "execution_count": 10,
   "id": "7adb9a9e-76a2-499a-af52-31d56cd72417",
   "metadata": {},
   "outputs": [],
   "source": [
    "nifty_data = nifty_data.resample('1H').agg({\n",
    "    'date':'first',\n",
    "    'time':'first',\n",
    "    'open':'first',\n",
    "    'high':'max',\n",
    "    'low':'min',\n",
    "    'close':'last'\n",
    "})"
   ]
  },
  {
   "cell_type": "code",
   "execution_count": 11,
   "id": "99922a1c-03c5-4b98-82cf-c5cf217f81ba",
   "metadata": {},
   "outputs": [],
   "source": [
    "nifty_data.reset_index(inplace=True)\n",
    "nifty_data['datetime'] = nifty_data['datetime'].apply(addDatetime)"
   ]
  },
  {
   "cell_type": "code",
   "execution_count": 12,
   "id": "24450adc-94ef-41b7-9256-f0bfefb79d74",
   "metadata": {},
   "outputs": [],
   "source": [
    "nifty_data.dropna(inplace=True)\n",
    "nifty_data.reset_index(inplace=True, drop=True)"
   ]
  },
  {
   "cell_type": "markdown",
   "id": "b6e18956-29cb-4dc4-89b3-dc3e7943964c",
   "metadata": {
    "jp-MarkdownHeadingCollapsed": true
   },
   "source": [
    "# <u>3. Computing Indicators (200SMA & SuperTrend)</u>"
   ]
  },
  {
   "cell_type": "markdown",
   "id": "54bf1cc8-4a22-4f77-ac5c-50230c63a951",
   "metadata": {},
   "source": [
    "#### 1. <u>Calculate Average True Range (ATR)</u>\n",
    "\n",
    "        The Average True Range (ATR) is a measure of market volatility. \n",
    "        \n",
    "        The true range for each period is the greatest of the following:\n",
    "        1. The difference between the current high and the current low.\n",
    "        2. The difference between the current high and the previous close.\n",
    "        3. The difference between the current low and the previous close.\n",
    "\n",
    "\n",
    "\n",
    "#### 2. <u>Calculate Basic Upper and Lower Bands</u>\n",
    "\n",
    "        The basic upper and lower bands are calculated using the ATR and a multiplier (commonly set to 3).\n",
    "\n",
    "        Basic Upper Band = ( (High + Low) / 2 ) + (Multiplier * ATR)\n",
    "        Basic Lower Band = ( (High + Low) / 2 ) - (Multiplier * ATR)\n",
    "\n",
    "\n",
    "\n",
    "#### 3. <u>Define Final Upper and Lower Bands</u>\n",
    "\n",
    "        The final upper and lower bands are determined based on the previous period's bands and the Previous close.\n",
    "\n",
    "        If the previous close is greater than the previous final upper band, then the current final upper band is the current basic upper band. \n",
    "        ELSE min(CurrentBasicUpperBand, PrevFinalUpperBand)\n",
    "        \n",
    "        \n",
    "        If the previous close is less than the previous final lower band, then the current final lower band is the current basic lower band.\n",
    "        ELSE max(CurrentBasicLowerBand, PrevFinalLowerBand)\n",
    "        \n",
    "\n",
    "\n",
    "\n",
    "#### 4. <u>Calculate SuperTrend</u>\n",
    "\n",
    "####    (A) Check for First SuperTrend Value, based on first Crossover\n",
    "        -If Previous close is less than previous final upper band, and current close is greater than current final upper band, So, current SuperTrend = Current FinalLowerBand\n",
    "         BREAK to get first ST value\n",
    "        -If Previous close is greater than previous final lower band, and current close is less than current final lower band, So, current SuperTrend = Current FinalUpperBand\n",
    "         BREAK to get first ST value\n",
    "               \n",
    "####    (B) Check for subsequent SuperTrend Values        \n",
    "\n",
    "        -If the previous period's SuperTrend is equal to the previous period's final upper band, and the current close is less than the current final upper band, then the current period's SuperTrend is the current final Upper band.\n",
    "        -If the previous period's SuperTrend is equal to the previous period's final upper band, and the current close is greater than the current final upper band, then the current period's SuperTrend is the current final Lower band.\n",
    "\n",
    "        -If the previous period's SuperTrend is equal to the previous period's final Lower band, and the current close is greater than the current final Lower band, then the current period's SuperTrend is the current final Lower band.\n",
    "        -If the previous period's SuperTrend is equal to the previous period's final Lower band, and the current close is less than the current final lower band, then the current period's SuperTrend is the current final Upper band."
   ]
  },
  {
   "cell_type": "code",
   "execution_count": 11,
   "id": "cbf68fdf-150b-41a2-84cb-cafcbe3868a1",
   "metadata": {},
   "outputs": [],
   "source": [
    "#200 SMA\n",
    "nifty_data['200sma'] = nifty_data['close'].rolling(window=200).mean()"
   ]
  },
  {
   "cell_type": "code",
   "execution_count": 12,
   "id": "e1cdfee6-1974-4776-a101-05abf5badd5c",
   "metadata": {},
   "outputs": [],
   "source": [
    "def atr(data, period):\n",
    "    df = data.copy()\n",
    "    df['H-L'] = df['high'] - df['low']\n",
    "    df['H-PC'] = abs(df['high'] - df['close'].shift(1))\n",
    "    df['L-PC'] = abs(df['low'] - df['close'].shift(1))\n",
    "    df['true_range'] = df[['H-L','H-PC','L-PC']].max(axis=1)\n",
    "    #df['atr'] = df['true_range'].rolling(window=period).mean()\n",
    "    df['atr'] = df['true_range'].ewm(com=period, min_periods=period).mean()\n",
    "    return df['atr']\n",
    "\n",
    "def superTrend(data, period, multiplier):\n",
    "    df = data.copy()\n",
    "    \n",
    "    #STEP 1\n",
    "    df['atr'] = atr(df, period)\n",
    "\n",
    "    #STEP 2\n",
    "    df['B-UB'] = ((df.high + df.low)/2) + (multiplier * df.atr)\n",
    "    df['B-LB'] = ((df.high + df.low)/2) - (multiplier * df.atr)\n",
    "\n",
    "    #STEP 3\n",
    "    df['F-UB'] = df['B-UB']\n",
    "    df['F-LB'] = df['B-LB']\n",
    "\n",
    "    for i in range(period,len(df)):\n",
    "        if df.iloc[i-1]['close'] > df.iloc[i-1]['F-UB']:\n",
    "            df.loc[i, 'F-UB'] = df.iloc[i]['B-UB']\n",
    "        else:\n",
    "            df.loc[i, 'F-UB'] = min(df.iloc[i]['B-UB'], df.iloc[i-1]['F-UB'])\n",
    "\n",
    "    for i in range(period,len(df)):\n",
    "        if df.iloc[i-1]['close'] < df.iloc[i-1]['F-LB']:\n",
    "            df.loc[i, 'F-LB'] = df.iloc[i]['B-LB']\n",
    "        else:\n",
    "            df.loc[i, 'F-LB'] = max(df.iloc[i]['B-LB'], df.iloc[i-1]['F-LB'])\n",
    "\n",
    "    #STEP 4\n",
    "    df['supertrend'] = np.nan\n",
    "\n",
    "    for y in range(period, len(df)):\n",
    "        if (df.iloc[y-1]['close'] <= df.iloc[y-1]['F-UB']) & (df.iloc[y]['close'] > df.iloc[y]['F-UB']):\n",
    "            df.loc[y, 'supertrend'] = df.iloc[y]['F-LB']\n",
    "            break\n",
    "        if (df.iloc[y-1]['close'] >= df.iloc[y-1]['F-LB']) & (df.iloc[y]['close'] < df.iloc[y]['F-LB']):\n",
    "            df.loc[y, 'supertrend'] = df.iloc[y]['F-UB']\n",
    "            break\n",
    "\n",
    "    for i in range(y+1, len(df)):\n",
    "        if (df.iloc[i-1]['supertrend'] == df.iloc[i-1]['F-UB']) & (df.iloc[i]['close'] <= df.iloc[i]['F-UB']):\n",
    "            df.loc[i, 'supertrend'] = df.iloc[i]['F-UB']\n",
    "        elif (df.iloc[i-1]['supertrend'] == df.iloc[i-1]['F-UB']) & (df.iloc[i]['close'] >= df.iloc[i]['F-UB']):\n",
    "            df.loc[i, 'supertrend'] = df.iloc[i]['F-LB']\n",
    "        elif (df.iloc[i-1]['supertrend'] == df.iloc[i-1]['F-LB']) & (df.iloc[i]['close'] >= df.iloc[i]['F-LB']):\n",
    "            df.loc[i, 'supertrend'] = df.iloc[i]['F-LB']\n",
    "        elif (df.iloc[i-1]['supertrend'] == df.iloc[i-1]['F-LB']) & (df.iloc[i]['close'] <= df.iloc[i]['F-LB']):\n",
    "            df.loc[i, 'supertrend'] = df.iloc[i]['F-UB']\n",
    "\n",
    "    return df['supertrend']"
   ]
  },
  {
   "cell_type": "code",
   "execution_count": 13,
   "id": "78559cfa-aca7-4165-9cfa-d91398698e02",
   "metadata": {},
   "outputs": [
    {
     "name": "stdout",
     "output_type": "stream",
     "text": [
      "CPU times: user 12.2 s, sys: 93.4 ms, total: 12.3 s\n",
      "Wall time: 12.4 s\n"
     ]
    }
   ],
   "source": [
    "%%time\n",
    "nifty_data['supertrend'] = superTrend(nifty_data, 10, 3)\n",
    "nifty_data['200sma'] = nifty_data['200sma'].shift(1)\n",
    "nifty_data['supertrend'] = nifty_data['supertrend'].shift(1)"
   ]
  },
  {
   "cell_type": "code",
   "execution_count": 14,
   "id": "ed8314a1-5667-4591-b460-d6f04ebe8e9e",
   "metadata": {},
   "outputs": [],
   "source": [
    "nifty_data.dropna(inplace=True)\n",
    "nifty_data.reset_index(drop=True, inplace=True)"
   ]
  },
  {
   "cell_type": "markdown",
   "id": "f44aa4a3-b94a-49ca-927b-def99dca0ef2",
   "metadata": {},
   "source": [
    "# <u>3(B). Faster SuperTrend Computation</u>"
   ]
  },
  {
   "cell_type": "code",
   "execution_count": 13,
   "id": "8bda3de5-311c-4014-82f4-db80a5e67dd9",
   "metadata": {},
   "outputs": [],
   "source": [
    "#200 SMA\n",
    "nifty_data['200sma'] = nifty_data['close'].rolling(window=200).mean()"
   ]
  },
  {
   "cell_type": "code",
   "execution_count": 14,
   "id": "14695665-b464-4255-bfc9-94e03a9cca30",
   "metadata": {},
   "outputs": [],
   "source": [
    "#ATR optimised for np.array\n",
    "#Notice we are not passing any DataFrame - high/low/close will be initialised in the main function\n",
    "def atr_np(high, low, close, period):\n",
    "    h_l = high - low\n",
    "    h_pc = np.maximum(high - np.roll(close, 1), 0)  # Replaces shift\n",
    "    l_pc = np.maximum(low - np.roll(close, 1), 0)\n",
    "\n",
    "    true_range = np.maximum(h_l, h_pc, l_pc)\n",
    "    atr = pd.Series(true_range).ewm(com=period, min_periods=period).mean().to_numpy()\n",
    "    return atr"
   ]
  },
  {
   "cell_type": "code",
   "execution_count": 15,
   "id": "7be6a9ac-d1ca-46b0-a1df-7ed2f83aea2b",
   "metadata": {},
   "outputs": [],
   "source": [
    "#To Optimize this more - instead of looping over len(data) We can create a np.array of index of data and loop over that\n",
    "\n",
    "def superTrend_np(data, period, multiplier):\n",
    "    high, low, close = data['high'].to_numpy(), data['low'].to_numpy(), data['close'].to_numpy()\n",
    "\n",
    "    # Step 1: Calculate ATR\n",
    "    atr = atr_np(high, low, close, period)\n",
    "    data['atr'] = atr_np(high, low, close, period)\n",
    "\n",
    "    # Step 2: Calculate Basic Upper and Lower Bands\n",
    "    b_ub = ((high + low) / 2) + (multiplier * atr)\n",
    "    b_lb = ((high + low) / 2) - (multiplier * atr)\n",
    "\n",
    "    # Step 3: Initialize Final Upper and Lower Bands\n",
    "    f_ub, f_lb = b_ub.copy(), b_lb.copy()\n",
    "\n",
    "    # Loop for F-UB and F-LB\n",
    "    for i in range(period, len(data)):\n",
    "        f_ub[i] = b_ub[i] if close[i-1] > f_ub[i-1] else min(b_ub[i], f_ub[i-1])\n",
    "        f_lb[i] = b_lb[i] if close[i-1] < f_lb[i-1] else max(b_lb[i], f_lb[i-1])\n",
    "\n",
    "    # Step 4: Supertrend Calculation\n",
    "    supertrend = np.full_like(close, np.nan)\n",
    "\n",
    "    # Initial crossover\n",
    "    for y in range(period, len(data)):\n",
    "        if (close[y-1] <= f_ub[y-1]) and (close[y] > f_ub[y]):\n",
    "            supertrend[y] = f_lb[y]\n",
    "            break\n",
    "        elif (close[y-1] >= f_lb[y-1]) and (close[y] < f_lb[y]):\n",
    "            supertrend[y] = f_ub[y]\n",
    "            break\n",
    "\n",
    "    # Remaining Supertrend values\n",
    "    for i in range(y+1, len(data)):\n",
    "        if (supertrend[i-1] == f_ub[i-1]) and (close[i] <= f_ub[i]):\n",
    "            supertrend[i] = f_ub[i]\n",
    "        elif (supertrend[i-1] == f_ub[i-1]) and (close[i] > f_ub[i]):\n",
    "            supertrend[i] = f_lb[i]\n",
    "        elif (supertrend[i-1] == f_lb[i-1]) and (close[i] >= f_lb[i]):\n",
    "            supertrend[i] = f_lb[i]\n",
    "        elif (supertrend[i-1] == f_lb[i-1]) and (close[i] < f_lb[i]):\n",
    "            supertrend[i] = f_ub[i]\n",
    "\n",
    "    return supertrend\n"
   ]
  },
  {
   "cell_type": "code",
   "execution_count": 16,
   "id": "91edc6e4-f634-43a1-a182-10236dd05423",
   "metadata": {},
   "outputs": [
    {
     "name": "stdout",
     "output_type": "stream",
     "text": [
      "CPU times: user 34.3 ms, sys: 4.35 ms, total: 38.6 ms\n",
      "Wall time: 41.6 ms\n"
     ]
    }
   ],
   "source": [
    "%%time\n",
    "nifty_data['supertrend'] = superTrend_np(nifty_data, 10, 3)"
   ]
  },
  {
   "cell_type": "code",
   "execution_count": 17,
   "id": "f35736eb-bde1-4834-82b3-3db78a445a68",
   "metadata": {},
   "outputs": [],
   "source": [
    "nifty_data.dropna(inplace=True)\n",
    "nifty_data.reset_index(drop=True, inplace=True)"
   ]
  },
  {
   "cell_type": "code",
   "execution_count": 18,
   "id": "eab99446-6ff0-4fdc-a459-a05efaf8cfd0",
   "metadata": {},
   "outputs": [],
   "source": [
    "nifty_data['200sma'] = nifty_data['200sma'].shift(1)\n",
    "nifty_data['supertrend'] = nifty_data['supertrend'].shift(1)"
   ]
  },
  {
   "cell_type": "code",
   "execution_count": 19,
   "id": "1959cd74-9c56-47dd-bdcd-89c6a8dc6fd3",
   "metadata": {},
   "outputs": [
    {
     "data": {
      "text/html": [
       "<div>\n",
       "<style scoped>\n",
       "    .dataframe tbody tr th:only-of-type {\n",
       "        vertical-align: middle;\n",
       "    }\n",
       "\n",
       "    .dataframe tbody tr th {\n",
       "        vertical-align: top;\n",
       "    }\n",
       "\n",
       "    .dataframe thead th {\n",
       "        text-align: right;\n",
       "    }\n",
       "</style>\n",
       "<table border=\"1\" class=\"dataframe\">\n",
       "  <thead>\n",
       "    <tr style=\"text-align: right;\">\n",
       "      <th></th>\n",
       "      <th>datetime</th>\n",
       "      <th>date</th>\n",
       "      <th>time</th>\n",
       "      <th>open</th>\n",
       "      <th>high</th>\n",
       "      <th>low</th>\n",
       "      <th>close</th>\n",
       "      <th>200sma</th>\n",
       "      <th>atr</th>\n",
       "      <th>supertrend</th>\n",
       "    </tr>\n",
       "  </thead>\n",
       "  <tbody>\n",
       "    <tr>\n",
       "      <th>0</th>\n",
       "      <td>2015-02-23 12:15:00</td>\n",
       "      <td>2015-02-23</td>\n",
       "      <td>12:15:00</td>\n",
       "      <td>8847.30</td>\n",
       "      <td>8853.00</td>\n",
       "      <td>8839.55</td>\n",
       "      <td>8850.60</td>\n",
       "      <td>NaN</td>\n",
       "      <td>33.617458</td>\n",
       "      <td>NaN</td>\n",
       "    </tr>\n",
       "    <tr>\n",
       "      <th>1</th>\n",
       "      <td>2015-02-23 13:15:00</td>\n",
       "      <td>2015-02-23</td>\n",
       "      <td>13:15:00</td>\n",
       "      <td>8850.15</td>\n",
       "      <td>8856.10</td>\n",
       "      <td>8768.60</td>\n",
       "      <td>8776.35</td>\n",
       "      <td>8680.18725</td>\n",
       "      <td>38.515871</td>\n",
       "      <td>8799.227028</td>\n",
       "    </tr>\n",
       "    <tr>\n",
       "      <th>2</th>\n",
       "      <td>2015-02-23 14:15:00</td>\n",
       "      <td>2015-02-23</td>\n",
       "      <td>14:15:00</td>\n",
       "      <td>8776.05</td>\n",
       "      <td>8785.50</td>\n",
       "      <td>8748.80</td>\n",
       "      <td>8759.90</td>\n",
       "      <td>8682.66125</td>\n",
       "      <td>38.350792</td>\n",
       "      <td>8925.527805</td>\n",
       "    </tr>\n",
       "    <tr>\n",
       "      <th>3</th>\n",
       "      <td>2015-02-23 15:15:00</td>\n",
       "      <td>2015-02-23</td>\n",
       "      <td>15:15:00</td>\n",
       "      <td>8758.10</td>\n",
       "      <td>8761.45</td>\n",
       "      <td>8737.25</td>\n",
       "      <td>8742.80</td>\n",
       "      <td>8685.04900</td>\n",
       "      <td>37.064356</td>\n",
       "      <td>8882.202376</td>\n",
       "    </tr>\n",
       "    <tr>\n",
       "      <th>4</th>\n",
       "      <td>2015-02-24 09:15:00</td>\n",
       "      <td>2015-02-24</td>\n",
       "      <td>09:15:00</td>\n",
       "      <td>8772.90</td>\n",
       "      <td>8775.70</td>\n",
       "      <td>8746.50</td>\n",
       "      <td>8755.55</td>\n",
       "      <td>8687.65375</td>\n",
       "      <td>36.685778</td>\n",
       "      <td>8860.543069</td>\n",
       "    </tr>\n",
       "    <tr>\n",
       "      <th>...</th>\n",
       "      <td>...</td>\n",
       "      <td>...</td>\n",
       "      <td>...</td>\n",
       "      <td>...</td>\n",
       "      <td>...</td>\n",
       "      <td>...</td>\n",
       "      <td>...</td>\n",
       "      <td>...</td>\n",
       "      <td>...</td>\n",
       "      <td>...</td>\n",
       "    </tr>\n",
       "    <tr>\n",
       "      <th>15223</th>\n",
       "      <td>2023-12-15 11:15:00</td>\n",
       "      <td>2023-12-15</td>\n",
       "      <td>11:15:00</td>\n",
       "      <td>21312.55</td>\n",
       "      <td>21331.85</td>\n",
       "      <td>21308.80</td>\n",
       "      <td>21311.10</td>\n",
       "      <td>20083.79100</td>\n",
       "      <td>61.348501</td>\n",
       "      <td>21123.189947</td>\n",
       "    </tr>\n",
       "    <tr>\n",
       "      <th>15224</th>\n",
       "      <td>2023-12-15 12:15:00</td>\n",
       "      <td>2023-12-15</td>\n",
       "      <td>12:15:00</td>\n",
       "      <td>21311.65</td>\n",
       "      <td>21337.55</td>\n",
       "      <td>21303.45</td>\n",
       "      <td>21321.55</td>\n",
       "      <td>20094.62225</td>\n",
       "      <td>58.871364</td>\n",
       "      <td>21136.279498</td>\n",
       "    </tr>\n",
       "    <tr>\n",
       "      <th>15225</th>\n",
       "      <td>2023-12-15 13:15:00</td>\n",
       "      <td>2023-12-15</td>\n",
       "      <td>13:15:00</td>\n",
       "      <td>21321.55</td>\n",
       "      <td>21365.75</td>\n",
       "      <td>21319.55</td>\n",
       "      <td>21330.65</td>\n",
       "      <td>20104.90550</td>\n",
       "      <td>57.719422</td>\n",
       "      <td>21143.885907</td>\n",
       "    </tr>\n",
       "    <tr>\n",
       "      <th>15226</th>\n",
       "      <td>2023-12-15 14:15:00</td>\n",
       "      <td>2023-12-15</td>\n",
       "      <td>14:15:00</td>\n",
       "      <td>21331.95</td>\n",
       "      <td>21458.40</td>\n",
       "      <td>21328.15</td>\n",
       "      <td>21458.40</td>\n",
       "      <td>20115.21625</td>\n",
       "      <td>64.313111</td>\n",
       "      <td>21169.491734</td>\n",
       "    </tr>\n",
       "    <tr>\n",
       "      <th>15227</th>\n",
       "      <td>2023-12-15 15:15:00</td>\n",
       "      <td>2023-12-15</td>\n",
       "      <td>15:15:00</td>\n",
       "      <td>21458.00</td>\n",
       "      <td>21492.30</td>\n",
       "      <td>21448.70</td>\n",
       "      <td>21448.70</td>\n",
       "      <td>20126.28000</td>\n",
       "      <td>62.430101</td>\n",
       "      <td>21200.335667</td>\n",
       "    </tr>\n",
       "  </tbody>\n",
       "</table>\n",
       "<p>15228 rows × 10 columns</p>\n",
       "</div>"
      ],
      "text/plain": [
       "                 datetime        date      time      open      high       low  \\\n",
       "0     2015-02-23 12:15:00  2015-02-23  12:15:00   8847.30   8853.00   8839.55   \n",
       "1     2015-02-23 13:15:00  2015-02-23  13:15:00   8850.15   8856.10   8768.60   \n",
       "2     2015-02-23 14:15:00  2015-02-23  14:15:00   8776.05   8785.50   8748.80   \n",
       "3     2015-02-23 15:15:00  2015-02-23  15:15:00   8758.10   8761.45   8737.25   \n",
       "4     2015-02-24 09:15:00  2015-02-24  09:15:00   8772.90   8775.70   8746.50   \n",
       "...                   ...         ...       ...       ...       ...       ...   \n",
       "15223 2023-12-15 11:15:00  2023-12-15  11:15:00  21312.55  21331.85  21308.80   \n",
       "15224 2023-12-15 12:15:00  2023-12-15  12:15:00  21311.65  21337.55  21303.45   \n",
       "15225 2023-12-15 13:15:00  2023-12-15  13:15:00  21321.55  21365.75  21319.55   \n",
       "15226 2023-12-15 14:15:00  2023-12-15  14:15:00  21331.95  21458.40  21328.15   \n",
       "15227 2023-12-15 15:15:00  2023-12-15  15:15:00  21458.00  21492.30  21448.70   \n",
       "\n",
       "          close       200sma        atr    supertrend  \n",
       "0       8850.60          NaN  33.617458           NaN  \n",
       "1       8776.35   8680.18725  38.515871   8799.227028  \n",
       "2       8759.90   8682.66125  38.350792   8925.527805  \n",
       "3       8742.80   8685.04900  37.064356   8882.202376  \n",
       "4       8755.55   8687.65375  36.685778   8860.543069  \n",
       "...         ...          ...        ...           ...  \n",
       "15223  21311.10  20083.79100  61.348501  21123.189947  \n",
       "15224  21321.55  20094.62225  58.871364  21136.279498  \n",
       "15225  21330.65  20104.90550  57.719422  21143.885907  \n",
       "15226  21458.40  20115.21625  64.313111  21169.491734  \n",
       "15227  21448.70  20126.28000  62.430101  21200.335667  \n",
       "\n",
       "[15228 rows x 10 columns]"
      ]
     },
     "execution_count": 19,
     "metadata": {},
     "output_type": "execute_result"
    }
   ],
   "source": [
    "nifty_data"
   ]
  },
  {
   "cell_type": "markdown",
   "id": "44dfac80-532b-42d4-97d8-414e59f4ba13",
   "metadata": {},
   "source": [
    "# <u>4. Generating Buy/Sell Signals</u>"
   ]
  },
  {
   "cell_type": "code",
   "execution_count": 20,
   "id": "7f2bcd0b-df78-4a80-8462-89ae4965beb8",
   "metadata": {},
   "outputs": [],
   "source": [
    "nifty_data['buy_signals'] = 0\n",
    "nifty_data['sell_signals'] = 0\n",
    "\n",
    "nifty_data['buy_signals'] = np.where((nifty_data.close > nifty_data['200sma']) \n",
    "                                     & \n",
    "                                     (nifty_data.close.shift(1) < nifty_data.supertrend.shift(1)) \n",
    "                                     & \n",
    "                                     (nifty_data.close > nifty_data.supertrend),\n",
    "                                     1, \n",
    "                                     0)\n",
    "\n",
    "nifty_data['sell_signals'] = np.where((nifty_data.close < nifty_data['200sma']) \n",
    "                                     & \n",
    "                                     (nifty_data.close.shift(1) > nifty_data.supertrend.shift(1)) \n",
    "                                     & \n",
    "                                     (nifty_data.close < nifty_data.supertrend),\n",
    "                                     -1, \n",
    "                                     0)"
   ]
  },
  {
   "cell_type": "markdown",
   "id": "678c9be3-0150-4673-9d1f-25adf02d097f",
   "metadata": {},
   "source": [
    "# <u>5. Backtesting and computing TradeLog</u>"
   ]
  },
  {
   "cell_type": "code",
   "execution_count": 21,
   "id": "423b5354-7eab-47d6-95da-b56c0879a8e8",
   "metadata": {},
   "outputs": [
    {
     "data": {
      "text/html": [
       "<div>\n",
       "<style scoped>\n",
       "    .dataframe tbody tr th:only-of-type {\n",
       "        vertical-align: middle;\n",
       "    }\n",
       "\n",
       "    .dataframe tbody tr th {\n",
       "        vertical-align: top;\n",
       "    }\n",
       "\n",
       "    .dataframe thead th {\n",
       "        text-align: right;\n",
       "    }\n",
       "</style>\n",
       "<table border=\"1\" class=\"dataframe\">\n",
       "  <thead>\n",
       "    <tr style=\"text-align: right;\">\n",
       "      <th></th>\n",
       "      <th>datetime</th>\n",
       "      <th>date</th>\n",
       "      <th>time</th>\n",
       "      <th>open</th>\n",
       "      <th>high</th>\n",
       "      <th>low</th>\n",
       "      <th>close</th>\n",
       "      <th>200sma</th>\n",
       "      <th>atr</th>\n",
       "      <th>supertrend</th>\n",
       "      <th>buy_signals</th>\n",
       "      <th>sell_signals</th>\n",
       "    </tr>\n",
       "  </thead>\n",
       "  <tbody>\n",
       "    <tr>\n",
       "      <th>0</th>\n",
       "      <td>2015-02-23 12:15:00</td>\n",
       "      <td>2015-02-23</td>\n",
       "      <td>12:15:00</td>\n",
       "      <td>8847.30</td>\n",
       "      <td>8853.00</td>\n",
       "      <td>8839.55</td>\n",
       "      <td>8850.60</td>\n",
       "      <td>NaN</td>\n",
       "      <td>33.617458</td>\n",
       "      <td>NaN</td>\n",
       "      <td>0</td>\n",
       "      <td>0</td>\n",
       "    </tr>\n",
       "    <tr>\n",
       "      <th>1</th>\n",
       "      <td>2015-02-23 13:15:00</td>\n",
       "      <td>2015-02-23</td>\n",
       "      <td>13:15:00</td>\n",
       "      <td>8850.15</td>\n",
       "      <td>8856.10</td>\n",
       "      <td>8768.60</td>\n",
       "      <td>8776.35</td>\n",
       "      <td>8680.18725</td>\n",
       "      <td>38.515871</td>\n",
       "      <td>8799.227028</td>\n",
       "      <td>0</td>\n",
       "      <td>0</td>\n",
       "    </tr>\n",
       "    <tr>\n",
       "      <th>2</th>\n",
       "      <td>2015-02-23 14:15:00</td>\n",
       "      <td>2015-02-23</td>\n",
       "      <td>14:15:00</td>\n",
       "      <td>8776.05</td>\n",
       "      <td>8785.50</td>\n",
       "      <td>8748.80</td>\n",
       "      <td>8759.90</td>\n",
       "      <td>8682.66125</td>\n",
       "      <td>38.350792</td>\n",
       "      <td>8925.527805</td>\n",
       "      <td>0</td>\n",
       "      <td>0</td>\n",
       "    </tr>\n",
       "    <tr>\n",
       "      <th>3</th>\n",
       "      <td>2015-02-23 15:15:00</td>\n",
       "      <td>2015-02-23</td>\n",
       "      <td>15:15:00</td>\n",
       "      <td>8758.10</td>\n",
       "      <td>8761.45</td>\n",
       "      <td>8737.25</td>\n",
       "      <td>8742.80</td>\n",
       "      <td>8685.04900</td>\n",
       "      <td>37.064356</td>\n",
       "      <td>8882.202376</td>\n",
       "      <td>0</td>\n",
       "      <td>0</td>\n",
       "    </tr>\n",
       "    <tr>\n",
       "      <th>4</th>\n",
       "      <td>2015-02-24 09:15:00</td>\n",
       "      <td>2015-02-24</td>\n",
       "      <td>09:15:00</td>\n",
       "      <td>8772.90</td>\n",
       "      <td>8775.70</td>\n",
       "      <td>8746.50</td>\n",
       "      <td>8755.55</td>\n",
       "      <td>8687.65375</td>\n",
       "      <td>36.685778</td>\n",
       "      <td>8860.543069</td>\n",
       "      <td>0</td>\n",
       "      <td>0</td>\n",
       "    </tr>\n",
       "    <tr>\n",
       "      <th>...</th>\n",
       "      <td>...</td>\n",
       "      <td>...</td>\n",
       "      <td>...</td>\n",
       "      <td>...</td>\n",
       "      <td>...</td>\n",
       "      <td>...</td>\n",
       "      <td>...</td>\n",
       "      <td>...</td>\n",
       "      <td>...</td>\n",
       "      <td>...</td>\n",
       "      <td>...</td>\n",
       "      <td>...</td>\n",
       "    </tr>\n",
       "    <tr>\n",
       "      <th>15223</th>\n",
       "      <td>2023-12-15 11:15:00</td>\n",
       "      <td>2023-12-15</td>\n",
       "      <td>11:15:00</td>\n",
       "      <td>21312.55</td>\n",
       "      <td>21331.85</td>\n",
       "      <td>21308.80</td>\n",
       "      <td>21311.10</td>\n",
       "      <td>20083.79100</td>\n",
       "      <td>61.348501</td>\n",
       "      <td>21123.189947</td>\n",
       "      <td>0</td>\n",
       "      <td>0</td>\n",
       "    </tr>\n",
       "    <tr>\n",
       "      <th>15224</th>\n",
       "      <td>2023-12-15 12:15:00</td>\n",
       "      <td>2023-12-15</td>\n",
       "      <td>12:15:00</td>\n",
       "      <td>21311.65</td>\n",
       "      <td>21337.55</td>\n",
       "      <td>21303.45</td>\n",
       "      <td>21321.55</td>\n",
       "      <td>20094.62225</td>\n",
       "      <td>58.871364</td>\n",
       "      <td>21136.279498</td>\n",
       "      <td>0</td>\n",
       "      <td>0</td>\n",
       "    </tr>\n",
       "    <tr>\n",
       "      <th>15225</th>\n",
       "      <td>2023-12-15 13:15:00</td>\n",
       "      <td>2023-12-15</td>\n",
       "      <td>13:15:00</td>\n",
       "      <td>21321.55</td>\n",
       "      <td>21365.75</td>\n",
       "      <td>21319.55</td>\n",
       "      <td>21330.65</td>\n",
       "      <td>20104.90550</td>\n",
       "      <td>57.719422</td>\n",
       "      <td>21143.885907</td>\n",
       "      <td>0</td>\n",
       "      <td>0</td>\n",
       "    </tr>\n",
       "    <tr>\n",
       "      <th>15226</th>\n",
       "      <td>2023-12-15 14:15:00</td>\n",
       "      <td>2023-12-15</td>\n",
       "      <td>14:15:00</td>\n",
       "      <td>21331.95</td>\n",
       "      <td>21458.40</td>\n",
       "      <td>21328.15</td>\n",
       "      <td>21458.40</td>\n",
       "      <td>20115.21625</td>\n",
       "      <td>64.313111</td>\n",
       "      <td>21169.491734</td>\n",
       "      <td>0</td>\n",
       "      <td>0</td>\n",
       "    </tr>\n",
       "    <tr>\n",
       "      <th>15227</th>\n",
       "      <td>2023-12-15 15:15:00</td>\n",
       "      <td>2023-12-15</td>\n",
       "      <td>15:15:00</td>\n",
       "      <td>21458.00</td>\n",
       "      <td>21492.30</td>\n",
       "      <td>21448.70</td>\n",
       "      <td>21448.70</td>\n",
       "      <td>20126.28000</td>\n",
       "      <td>62.430101</td>\n",
       "      <td>21200.335667</td>\n",
       "      <td>0</td>\n",
       "      <td>0</td>\n",
       "    </tr>\n",
       "  </tbody>\n",
       "</table>\n",
       "<p>15228 rows × 12 columns</p>\n",
       "</div>"
      ],
      "text/plain": [
       "                 datetime        date      time      open      high       low  \\\n",
       "0     2015-02-23 12:15:00  2015-02-23  12:15:00   8847.30   8853.00   8839.55   \n",
       "1     2015-02-23 13:15:00  2015-02-23  13:15:00   8850.15   8856.10   8768.60   \n",
       "2     2015-02-23 14:15:00  2015-02-23  14:15:00   8776.05   8785.50   8748.80   \n",
       "3     2015-02-23 15:15:00  2015-02-23  15:15:00   8758.10   8761.45   8737.25   \n",
       "4     2015-02-24 09:15:00  2015-02-24  09:15:00   8772.90   8775.70   8746.50   \n",
       "...                   ...         ...       ...       ...       ...       ...   \n",
       "15223 2023-12-15 11:15:00  2023-12-15  11:15:00  21312.55  21331.85  21308.80   \n",
       "15224 2023-12-15 12:15:00  2023-12-15  12:15:00  21311.65  21337.55  21303.45   \n",
       "15225 2023-12-15 13:15:00  2023-12-15  13:15:00  21321.55  21365.75  21319.55   \n",
       "15226 2023-12-15 14:15:00  2023-12-15  14:15:00  21331.95  21458.40  21328.15   \n",
       "15227 2023-12-15 15:15:00  2023-12-15  15:15:00  21458.00  21492.30  21448.70   \n",
       "\n",
       "          close       200sma        atr    supertrend  buy_signals  \\\n",
       "0       8850.60          NaN  33.617458           NaN            0   \n",
       "1       8776.35   8680.18725  38.515871   8799.227028            0   \n",
       "2       8759.90   8682.66125  38.350792   8925.527805            0   \n",
       "3       8742.80   8685.04900  37.064356   8882.202376            0   \n",
       "4       8755.55   8687.65375  36.685778   8860.543069            0   \n",
       "...         ...          ...        ...           ...          ...   \n",
       "15223  21311.10  20083.79100  61.348501  21123.189947            0   \n",
       "15224  21321.55  20094.62225  58.871364  21136.279498            0   \n",
       "15225  21330.65  20104.90550  57.719422  21143.885907            0   \n",
       "15226  21458.40  20115.21625  64.313111  21169.491734            0   \n",
       "15227  21448.70  20126.28000  62.430101  21200.335667            0   \n",
       "\n",
       "       sell_signals  \n",
       "0                 0  \n",
       "1                 0  \n",
       "2                 0  \n",
       "3                 0  \n",
       "4                 0  \n",
       "...             ...  \n",
       "15223             0  \n",
       "15224             0  \n",
       "15225             0  \n",
       "15226             0  \n",
       "15227             0  \n",
       "\n",
       "[15228 rows x 12 columns]"
      ]
     },
     "execution_count": 21,
     "metadata": {},
     "output_type": "execute_result"
    }
   ],
   "source": [
    "nifty_data"
   ]
  },
  {
   "cell_type": "code",
   "execution_count": 22,
   "id": "5c21e7e3-2183-4a7d-808e-01bd843bbb1e",
   "metadata": {},
   "outputs": [],
   "source": [
    "in_trade = False\n",
    "trade_log = []"
   ]
  },
  {
   "cell_type": "code",
   "execution_count": 23,
   "id": "dd7be22a-1870-44fb-bc53-0e4e81a900d7",
   "metadata": {},
   "outputs": [],
   "source": [
    "for idx, row in nifty_data.iterrows():\n",
    "\n",
    "    if not in_trade:\n",
    "        if row.buy_signals == 1:\n",
    "            in_trade = True\n",
    "            trade_direction = 'LONG'\n",
    "            entry_price = row.close\n",
    "            entry_date = row.date\n",
    "            entry_time = row.time\n",
    "        elif row.sell_signals == -1:\n",
    "            in_trade = True\n",
    "            trade_direction = 'SHORT'\n",
    "            entry_price = row.close\n",
    "            entry_date = row.date\n",
    "            entry_time = row.time\n",
    "\n",
    "    elif in_trade:\n",
    "        if trade_direction == 'LONG':\n",
    "            if (nifty_data.iloc[idx-1].close > nifty_data.iloc[idx-1].supertrend) & (row.close < row.supertrend):\n",
    "                exit_price = row.close\n",
    "                exit_time = row.time\n",
    "                exit_date = row.date\n",
    "                trade_log.append({\n",
    "                    'entry_date':entry_date,\n",
    "                    'entry_time':entry_time,\n",
    "                    'trade_direction':trade_direction,\n",
    "                    'entry_price':entry_price,\n",
    "                    'exit_date':exit_date,\n",
    "                    'exit_time':exit_time,\n",
    "                    'exit_price':exit_price,\n",
    "                    'pnl':exit_price - entry_price\n",
    "                })\n",
    "\n",
    "                in_trade = False\n",
    "                \n",
    "                \n",
    "        elif trade_direction == 'SHORT':\n",
    "            if (nifty_data.iloc[idx-1].close < nifty_data.iloc[idx-1].supertrend) & (row.close > row.supertrend):\n",
    "                exit_price = row.close\n",
    "                exit_time = row.time\n",
    "                exit_date = row.date\n",
    "                trade_log.append({\n",
    "                    'entry_date':entry_date,\n",
    "                    'entry_time':entry_time,\n",
    "                    'trade_direction':trade_direction,\n",
    "                    'entry_price':entry_price,\n",
    "                    'exit_date':exit_date,\n",
    "                    'exit_time':exit_time,\n",
    "                    'exit_price':exit_price,\n",
    "                    'pnl':entry_price - exit_price\n",
    "                })\n",
    "    \n",
    "                in_trade = False\n",
    "    "
   ]
  },
  {
   "cell_type": "code",
   "execution_count": 24,
   "id": "4bb8d8fc-f54c-40ca-932e-b07f3a9d6d67",
   "metadata": {},
   "outputs": [
    {
     "data": {
      "text/plain": [
       "223"
      ]
     },
     "execution_count": 24,
     "metadata": {},
     "output_type": "execute_result"
    }
   ],
   "source": [
    "len(trade_log)"
   ]
  },
  {
   "cell_type": "code",
   "execution_count": 25,
   "id": "0070e8de-db9b-4fc4-9a58-01cc2d050aa8",
   "metadata": {},
   "outputs": [],
   "source": [
    "trade_log_df = pd.DataFrame(trade_log)"
   ]
  },
  {
   "cell_type": "code",
   "execution_count": 26,
   "id": "3ddf2367-d460-41ce-bd13-25f6fb553085",
   "metadata": {},
   "outputs": [
    {
     "data": {
      "text/plain": [
       "0        117.65\n",
       "1        312.55\n",
       "2        289.10\n",
       "3        263.60\n",
       "4        185.10\n",
       "         ...   \n",
       "218    10488.75\n",
       "219    10266.85\n",
       "220    10124.95\n",
       "221     9981.95\n",
       "222    10633.95\n",
       "Name: pnl, Length: 223, dtype: float64"
      ]
     },
     "execution_count": 26,
     "metadata": {},
     "output_type": "execute_result"
    }
   ],
   "source": [
    "trade_log_df.pnl.cumsum()"
   ]
  },
  {
   "cell_type": "code",
   "execution_count": 27,
   "id": "2d1008e5-e98d-4b46-a2a0-30994bb8b5ca",
   "metadata": {},
   "outputs": [
    {
     "data": {
      "text/plain": [
       "<Axes: >"
      ]
     },
     "execution_count": 27,
     "metadata": {},
     "output_type": "execute_result"
    },
    {
     "data": {
      "image/png": "[encoded data removed]",
      "text/plain": [
       "<Figure size 640x480 with 1 Axes>"
      ]
     },
     "metadata": {},
     "output_type": "display_data"
    }
   ],
   "source": [
    "trade_log_df.pnl.cumsum().plot()"
   ]
  },
  {
   "cell_type": "markdown",
   "id": "3c3328c7-f168-4eff-8c99-d0aa2dbefd0c",
   "metadata": {},
   "source": [
    "# <u>6. Computing Metrics</u>"
   ]
  },
  {
   "cell_type": "code",
   "execution_count": 28,
   "id": "ecbcd121-2aa9-4f1d-8f90-afe85c5bf4d2",
   "metadata": {},
   "outputs": [],
   "source": [
    "pnl = trade_log_df['pnl']"
   ]
  },
  {
   "cell_type": "code",
   "execution_count": 29,
   "id": "87a32c8b-4364-4ecd-8b0e-03d3d1d96823",
   "metadata": {},
   "outputs": [
    {
     "data": {
      "text/plain": [
       "0        117.65\n",
       "1        312.55\n",
       "2        289.10\n",
       "3        263.60\n",
       "4        185.10\n",
       "         ...   \n",
       "218    10488.75\n",
       "219    10266.85\n",
       "220    10124.95\n",
       "221     9981.95\n",
       "222    10633.95\n",
       "Name: pnl, Length: 223, dtype: float64"
      ]
     },
     "execution_count": 29,
     "metadata": {},
     "output_type": "execute_result"
    }
   ],
   "source": [
    "pnl.cumsum()"
   ]
  },
  {
   "cell_type": "code",
   "execution_count": 30,
   "id": "62eda62b-c48b-4d87-8420-6c33db023760",
   "metadata": {},
   "outputs": [
    {
     "name": "stdout",
     "output_type": "stream",
     "text": [
      "Total PnL(Points):    10633.95\n",
      "Max Drawdown(Points): -1266.75\n",
      "Win %:                43.5%\n",
      "Loss %:               56.5%\n",
      "Total Win Points:     25439.25\n",
      "Total Loss Points:    -14805.3\n",
      "Calmar Ratio:         8.39\n"
     ]
    }
   ],
   "source": [
    "#Metrics\n",
    "print(f'Total PnL(Points):    {round(sum(pnl),2)}')\n",
    "print(f'Max Drawdown(Points): {round(min(pnl.cumsum() - pnl.cumsum().cummax()),2)}')\n",
    "print(f'Win %:                {round(len(pnl[pnl > 0])/len(pnl)*100,2)}%')\n",
    "print(f'Loss %:               {round(len(pnl[pnl < 0])/len(pnl)*100,2)}%')\n",
    "print(f'Total Win Points:     {round(sum(pnl[pnl > 0]),2)}')\n",
    "print(f'Total Loss Points:    {round(sum(pnl[pnl < 0]),2)}')\n",
    "print(f'Calmar Ratio:         {-1*round(pnl.cumsum().iloc[-1]/min(pnl.cumsum() - pnl.cumsum().cummax()),2)}')"
   ]
  },
  {
   "cell_type": "code",
   "execution_count": null,
   "id": "4353249b-505c-4b64-97b5-15939382a8f9",
   "metadata": {},
   "outputs": [],
   "source": []
  }
 ],
 "metadata": {
  "kernelspec": {
   "display_name": "day_party_paper_trader",
   "language": "python",
   "name": "day_party_paper_trader"
  },
  "language_info": {
   "codemirror_mode": {
    "name": "ipython",
    "version": 3
   },
   "file_extension": ".py",
   "mimetype": "text/x-python",
   "name": "python",
   "nbconvert_exporter": "python",
   "pygments_lexer": "ipython3",
   "version": "3.9.17"
  }
 },
 "nbformat": 4,
 "nbformat_minor": 5
}
